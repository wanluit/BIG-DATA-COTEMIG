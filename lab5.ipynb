{
 "cells": [
  {
   "cell_type": "markdown",
   "metadata": {},
   "source": [
    "# Lab 5: Orientação a objetos com Python"
   ]
  },
  {
   "cell_type": "markdown",
   "metadata": {},
   "source": [
    "## Overview\n",
    "\n",
    "Depois da última aula, que na maior parte cobriu regras, definições e semântica, nós estaremos brincando com classes reais hoje, escrevendo um bom pedaço de código e construindo várias classes para resolver uma variedade de problemas.\n",
    "\n",
    "Lembre-se de nossas definições iniciais:\n",
    "\n",
    "- Um *objeto* tem identidade\n",
    "- Um *nome* é uma referência a um objeto\n",
    "- Um *namespace* é um mapeamento associativo de nomes para objetos\n",
    "- Um *atributo* é qualquer nome após um ponto ('.')"
   ]
  },
  {
   "cell_type": "markdown",
   "metadata": {},
   "source": [
    "## Cursos de Stanford"
   ]
  },
  {
   "cell_type": "markdown",
   "metadata": {},
   "source": [
    "### Classe base\n",
    "\n",
    "Vamos criar uma turma para representar cursos na Stanford! Um curso terá três atributos para iniciar: um departamento (como `\"CS\"`), um código de curso (como `\"41\"` ou `\" 92SI \"`) e um título (como `\"hap.py code\" `).\n",
    "\n",
    "```Python\n",
    "class StanfordCourse:\n",
    "    def __init__(self, department, code, title):\n",
    "        self.department = department\n",
    "        self.code = code\n",
    "        self.title = title\n",
    "```\n",
    "\n",
    "Você pode assumir que todos os argumentos para este construtor serão strings.\n",
    "\n",
    "Executar a célula de código a seguir criará a classe `StanfordCourse` e imprimirá algumas informações sobre ela.\n",
    "\n",
    "*Nota: Se você alterar o conteúdo desta definição de classe, você precisará re-executar a célula de código para que ela tenha algum efeito. Todos os objetos de instância do objeto de classe antigo não serão atualizados automaticamente, portanto, talvez seja necessário executar novamente instanciações desse objeto de classe.*"
   ]
  },
  {
   "cell_type": "code",
   "execution_count": null,
   "metadata": {},
   "outputs": [],
   "source": [
    "class StanfordCourse:\n",
    "    def __init__(self, department, code, title):\n",
    "        self.department = department\n",
    "        self.code = code\n",
    "        self.title = title\n",
    "        \n",
    "print(StanfordCourse)\n",
    "print(StanfordCourse.mro())\n",
    "print(StanfordCourse.__init__)"
   ]
  },
  {
   "cell_type": "markdown",
   "metadata": {},
   "source": [
    "Criamos uma instância da classe, instanciando o objeto de classe, fornecendo alguns argumentos.\n",
    "\n",
    "```Python\n",
    "stanford_python = StanfordCourse(\"CS\", \"41\", \"hap.py code: the python programming language\")\n",
    "```\n",
    "Imprima os três atributos do objeto `stanford_python`."
   ]
  },
  {
   "cell_type": "code",
   "execution_count": null,
   "metadata": {},
   "outputs": [],
   "source": [
    "stanford_python = StanfordCourse(\"CS\", \"41\", \"hap.py code: the python programming language\")\n",
    "\n",
    "help(StanfordCourse)\n",
    "stanford_python = StanfordCourse(\"CS\", \"41\", \"hap.py code: the python programming language\")\n",
    "print(stanford_python.department)  # Print out the department of stanford_python\n",
    "print(stanford_python.code)  # Print out the code of stanford_python\n",
    "print(stanford_python.title)  # Print out the title of stanford_python"
   ]
  },
  {
   "cell_type": "markdown",
   "metadata": {},
   "source": [
    "### Herança\n",
    "\n",
    "Vamos explorar a herança criando uma classe `StanfordCSCourse` que recebe um parâmetro adicional` recorded` com valor padrão `False`."
   ]
  },
  {
   "cell_type": "code",
   "execution_count": 3,
   "metadata": {},
   "outputs": [],
   "source": [
    "class StanfordCSCourse(StanfordCourse):\n",
    "    def __init__(self, department, code, title, recorded=False):\n",
    "        super().__init__(department, code, title)\n",
    "        self.is_recorded = recorded"
   ]
  },
  {
   "cell_type": "markdown",
   "metadata": {},
   "source": [
    "Nós ainda não vimos a chamada `super()`, mas essa chamada nos permite tratar o objeto `self` como um objeto de instância da superclasse imediata (medida pelo MRO), então podemos chamar o método `__init__` da superclasse.\n",
    "\n",
    "Podemos instanciar nossa nova classe:\n",
    "\n",
    "```Python\n",
    "a = StanfordCourse(\"CS\", \"106A\", \"Programming Methodology\")\n",
    "b = StanfordCSCourse(\"CS\", \"106B\", \"Programming Abstractions\")\n",
    "x = StanfordCSCourse(\"CS\", \"106X\", \"Programming Abstractions\", recorded=True)\n",
    "print(a.code)  # => \"106A\"\n",
    "print(b.code)  # => \"106B\"\n",
    "```\n",
    "\n",
    "Leia as seguintes declarações e tente prever sua saída.\n",
    "\n",
    "```Python\n",
    "type(a)\n",
    "isinstance(a, StanfordCourse)\n",
    "isinstance(b, StanfordCourse)\n",
    "isinstance(x, StanfordCourse)\n",
    "isinstance(x, StanfordCSCourse)\n",
    "issubclass(x, StanfordCSCourse)\n",
    "issubclass(StanfordCourse, StanfordCSCourse)\n",
    "type(a) == type(b)\n",
    "type(b) == type(x)\n",
    "a == b\n",
    "b == x\n",
    "```"
   ]
  },
  {
   "cell_type": "code",
   "execution_count": null,
   "metadata": {},
   "outputs": [],
   "source": [
    "a = StanfordCourse(\"CS\", \"106A\", \"Programming Methodology\")\n",
    "b = StanfordCSCourse(\"CS\", \"106B\", \"Programming Abstractions\")\n",
    "x = StanfordCSCourse(\"CS\", \"106X\", \"Programming Abstractions\", recorded=True)\n",
    "\n",
    "print(type(a)) #tipo classe, pois tem origem na classe criada inicialmente\n",
    "print(type(b))\n",
    "print(isinstance(a, StanfordCourse)) #verdadeiro\n",
    "print(isinstance(b, StanfordCourse)) #verdadeiro\n",
    "print(isinstance(x, StanfordCourse)) #verdadeiro\n",
    "print(isinstance(x, StanfordCSCourse)) #verdadeiro\n",
    "print(issubclass(StanfordCourse, StanfordCSCourse)) #falso, pois as duas classes não possuem hierarquia subordinada\n",
    "print(type(a) == type(b)) #falso, pois apesar de serem as duas do tipo classe, elas são classes/tipo diferentes\n",
    "print(type(b) == type(x)) #verdadeiro, são da mesma classe\n",
    "print(a == b) #falso, classes e objetos diferentes\n",
    "print(b == x) #falso, apesas de mesma classe, os objetos são diferentes pela presença do \"recorded\""
   ]
  },
  {
   "cell_type": "markdown",
   "metadata": {},
   "source": [
    "### Atributos Adicionais\n",
    "\n",
    "Vamos adicionar mais funcionalidades à classe `StanfordCourse`!\n",
    "\n",
    "* Adicione um atributo `students` às instâncias da classe `StanfordCourse` que controla se os alunos estão presentes. Inicialmente, os alunos devem ser um conjunto vazio.\n",
    "* Crie um método `mark_attendance(*students)` que tome um número variável de `students` e marque-os como presentes.\n",
    "* Crie um método `is_present(student)` que use o nome de um aluno como parâmetro e retorne `True` se o aluno estiver presente e `False` caso contrário."
   ]
  },
  {
   "cell_type": "code",
   "execution_count": 1,
   "metadata": {},
   "outputs": [
    {
     "name": "stdout",
     "output_type": "stream",
     "text": [
      "True\n"
     ]
    }
   ],
   "source": [
    "from datetime import date\n",
    "\n",
    "class StanfordCourse:\n",
    "    def __init__(self, department, code, title):\n",
    "        self.department = department\n",
    "        self.code = code\n",
    "        self.title = title\n",
    "        self.attendance = {}\n",
    "        self.students = list()\n",
    "        self.student = \"\"\n",
    "        \n",
    "    def mark_attendance(self, *students):\n",
    "        self.attendance[date.today()] = set(students)\n",
    "    \n",
    "    def is_present(self, student, data=date.today()):\n",
    "        return student in self.attendance[data]\n",
    "\n",
    "    \n",
    "p = StanfordCourse(\"CS\",\"41\",\"Computer Science\")\n",
    "\n",
    "p.mark_attendance(\"James\",\"Rieder\",\"Allen\",\"Grace\")\n",
    "print(p.is_present(\"James\"))"
   ]
  },
  {
   "cell_type": "markdown",
   "metadata": {},
   "source": [
    "### Implementando Pré-requisitos\n",
    "\n",
    "Agora, vamos nos concentrar em `StanfordCSCourse`. Queremos implementar a funcionalidade para determinar se um curso de ciência da computação é um pré-requisito de outro. Em nossa implementação, assumiremos que a ordenação de cursos é determinada primeiro pela parte numérica do código do curso: por exemplo, `140` vem antes de` 255`. Se houver um empate, a ordenação é determinada pela ordenação padrão das letras que se seguem. Por exemplo, `106A < 106B`. Após a implementação, você poderá ver:\n",
    "\n",
    "```Python\n",
    ">>> cs106a = StanfordCourse(\"CS\", \"106A\", \"Programming Methodology\")\n",
    ">>> cs106b = StanfordCSCourse(\"CS\", \"106B\", \"Programming Abstractions\")\n",
    ">>> cs107 = StanfordCSCourse(\"CS\", \"107\", \"Computer Organzation and Systems\")\n",
    ">>> cs110 = StanfordCSCourse(\"CS\", \"110\", \"Principles of Computer Systems\")\n",
    ">>> cs110 > cs106b\n",
    "True\n",
    ">>> cs107 > cs110\n",
    "False\n",
    "```\n",
    "\n",
    "Para conseguir isso, você precisará implementar o método mágico `__le__` que adicionará funcionalidade para determinar se um curso é um pré-requisito para outro curso. Leia em [*total ordering*](https://docs.python.org/3/library/functools.html#functools.total_ordering) para descobrir o que `__le__` deve retornar com base no argumento transmitido.\n",
    "\n",
    "Para dar algumas dicas sobre como adicionar este pedaço de funcionalidade pode ser implementado, considere como você pode extrair o número real `int` do atributo de código do curso.\n",
    "\n",
    "Adicionalmente, você deve implementar um `__eq__` na classe `StanfordCourse`. Dois cursos são equivalentes se estiverem no mesmo departamento e tiverem o mesmo código do curso: o título do curso não importa aqui."
   ]
  },
  {
   "cell_type": "code",
   "execution_count": 2,
   "metadata": {},
   "outputs": [],
   "source": [
    "from datetime import date\n",
    "from functools import total_ordering\n",
    "\n",
    "@total_ordering\n",
    "class StanfordCourse:\n",
    "    def __init__(self, department, code, title):\n",
    "        self.department = department\n",
    "        self.code = code\n",
    "        self.title = title\n",
    "        self.attendance = {}\n",
    "        self.students = list()\n",
    "        self.student = \"\"\n",
    "        \n",
    "    def mark_attendance(self, *students):\n",
    "        self.attendance[date.today()] = set(students)\n",
    "    \n",
    "    def is_present(self, student, data=date.today()):\n",
    "        return student in self.attendance[data]\n",
    "    \n",
    "    def numero_inteiro(self):\n",
    "        if type(self.code) == str:\n",
    "            return int(\"\".join(list(filter(str.isnumeric, self.code))))\n",
    "        else:\n",
    "            return self.code\n",
    "            \n",
    "    def __le__(self, other):\n",
    "        if self.department != other.department:\n",
    "            return NotImplemented\n",
    "        return self.numero_inteiro() < other.numero_inteiro()\n",
    "    \n",
    "    def __eq__(self, other):\n",
    "        if self.department != other.department:\n",
    "            return NotImplemented\n",
    "        return self.code == other.code"
   ]
  },
  {
   "cell_type": "markdown",
   "metadata": {},
   "source": [
    "#### Ordenação\n",
    "\n",
    "Agora que escrevemos um método `__le__` e um método `__eq__`, implementamos tudo o que precisamos para falar sobre uma \"ordenação\" do `StanfordCourse`s. Usando o decorador [`functools.total_ordering`](https://docs.python.org/3/library/functools.html#functools.total_ordering), decore a classe para que todos os métodos de comparação sejam implementados. Você deveria poder executar o código abaixo sem problemas."
   ]
  },
  {
   "cell_type": "code",
   "execution_count": 4,
   "metadata": {},
   "outputs": [],
   "source": [
    "# Let's make CS106A a CS course\n",
    "cs106a = StanfordCSCourse(\"CS\", \"106A\", \"Programming Methodology\")\n",
    "cs106b = StanfordCSCourse(\"CS\", \"106B\", \"Programming Abstractions\")\n",
    "cs107 = StanfordCSCourse(\"CS\", \"107\", \"Computer Organzation and Systems\")\n",
    "cs110 = StanfordCSCourse(\"CS\", \"110\", \"Principles of Computer Systems\")\n",
    "\n",
    "\n",
    "\n",
    "courses = [cs110, cs106a, cs107, cs106b]\n",
    "courses\n",
    "\n",
    "courses.sort()\n",
    "\n",
    "#courses # => [cs106a, cs106b, cs107, cs110]"
   ]
  },
  {
   "cell_type": "markdown",
   "metadata": {},
   "source": [
    "### Catálogo\n",
    "\n",
    "Implemente uma classe chamada `CourseCatalog` que é construída a partir de uma lista de `StanfordCourse`s. Escreva um método para o `CourseCatalog` que retorna uma lista de cursos em um determinado departamento. Adicionalmente, escreva um método para o `CourseCatalog` que retorne todos os cursos que contenham um dado pedaço de texto de busca em seu título.\n",
    "\n",
    "Sinta-se à vontade para implementar qualquer outro método interessante que você queira."
   ]
  },
  {
   "cell_type": "code",
   "execution_count": null,
   "metadata": {},
   "outputs": [],
   "source": [
    "class CourseCatalog:\n",
    "    def __init__(self, courses):\n",
    "        \n",
    "        pass\n",
    "       \n",
    "    def courses_by_department(self, department_name):\n",
    "        pass\n",
    "        \n",
    "    def courses_by_search_term(self, search_snippet):\n",
    "        pass"
   ]
  },
  {
   "cell_type": "markdown",
   "metadata": {},
   "source": [
    "## Herança"
   ]
  },
  {
   "cell_type": "markdown",
   "metadata": {},
   "source": [
    "Considere o seguinte código:\n",
    "\n",
    "```Python\n",
    "\"\"\"Examples of Single Inheritance\"\"\"\n",
    "class Transportation:\n",
    "    wheels = 0\n",
    "\n",
    "    def __init__(self):\n",
    "        self.wheels = -1\n",
    "\n",
    "    def travel_one(self):\n",
    "        print(\"Travelling on generic transportation\")\n",
    "\n",
    "    def travel(self, distance):\n",
    "        for _ in range(distance):\n",
    "            self.travel_one()\n",
    "\n",
    "    def is_auto(self):\n",
    "        return self.wheels == 4\n",
    "\n",
    "class Bike(Transportation):\n",
    "\n",
    "    def travel_one(self):\n",
    "        print(\"Biking one mile\")\n",
    "\n",
    "class Car(Transportation):\n",
    "    wheels = 4\n",
    "\n",
    "    def travel_one(self):\n",
    "        print(\"Driving one mile\")\n",
    "\n",
    "    def make_sound(self):\n",
    "        print(\"VROOM\")\n",
    "\n",
    "class Ferrari(Car):\n",
    "    pass\n",
    "\n",
    "t = Transportation()\n",
    "b = Bike()\n",
    "c = Car()\n",
    "f = Ferrari()\n",
    "```\n",
    "\n",
    "Preveja o resultado de cada uma das seguintes linhas de código.\n",
    "\n",
    "```Python\n",
    "isinstance(t, Transportation)\n",
    "\n",
    "isinstance(b, Bike)\n",
    "isinstance(b, Transportation)\n",
    "isinstance(b, Car)\n",
    "isinstance(b, t)\n",
    "\n",
    "isinstance(c, Car)\n",
    "isinstance(c, Transportation)\n",
    "\n",
    "isinstance(f, Ferrari)\n",
    "isinstance(f, Car)\n",
    "isinstance(f, Transportation)\n",
    "\n",
    "issubclass(Bike, Transportation)\n",
    "issubclass(Car, Transportation)\n",
    "issubclass(Ferrari, Car)\n",
    "issubclass(Ferrari, Transportation)\n",
    "issubclass(Transportation, Transportation)\n",
    "\n",
    "b.travel(5)\n",
    "c.is_auto()\n",
    "f.is_auto()\n",
    "b.is_auto()\n",
    "b.make_sound()\n",
    "c.travel(10)\n",
    "f.travel(4)\n",
    "```"
   ]
  },
  {
   "cell_type": "code",
   "execution_count": 6,
   "metadata": {},
   "outputs": [],
   "source": [
    "class Transportation:\n",
    "    wheels = 0\n",
    "\n",
    "    def __init__(self):\n",
    "        self.wheels = -1\n",
    "\n",
    "    def travel_one(self):\n",
    "        print(\"Travelling on generic transportation\")\n",
    "\n",
    "    def travel(self, distance):\n",
    "        for _ in range(distance):\n",
    "            self.travel_one()\n",
    "\n",
    "    def is_auto(self):\n",
    "        return self.wheels == 4\n",
    "\n",
    "class Bike(Transportation):\n",
    "\n",
    "    def travel_one(self):\n",
    "        print(\"Biking one mile\")\n",
    "\n",
    "class Car(Transportation):\n",
    "    wheels = 4\n",
    "\n",
    "    def travel_one(self):\n",
    "        print(\"Driving one mile\")\n",
    "\n",
    "    def make_sound(self):\n",
    "        print(\"VROOM\")\n",
    "\n",
    "class Ferrari(Car):\n",
    "    pass\n",
    "\n",
    "t = Transportation()\n",
    "b = Bike()\n",
    "c = Car()\n",
    "f = Ferrari()"
   ]
  },
  {
   "cell_type": "code",
   "execution_count": 7,
   "metadata": {},
   "outputs": [
    {
     "name": "stdout",
     "output_type": "stream",
     "text": [
      "True\n",
      "True\n",
      "True\n",
      "False\n",
      "False\n",
      "True\n",
      "True\n",
      "True\n",
      "True\n",
      "True\n",
      "True\n",
      "True\n",
      "True\n",
      "True\n",
      "True\n",
      "Biking one mile\n",
      "Biking one mile\n",
      "Biking one mile\n",
      "Biking one mile\n",
      "Biking one mile\n",
      "False\n",
      "False\n",
      "False\n",
      "Driving one mile\n",
      "Driving one mile\n",
      "Driving one mile\n",
      "Driving one mile\n",
      "Driving one mile\n",
      "Driving one mile\n",
      "Driving one mile\n",
      "Driving one mile\n",
      "Driving one mile\n",
      "Driving one mile\n",
      "Driving one mile\n",
      "Driving one mile\n",
      "Driving one mile\n",
      "Driving one mile\n"
     ]
    }
   ],
   "source": [
    "print(isinstance(t, Transportation))\n",
    "\n",
    "print(isinstance(b, Bike))\n",
    "print(isinstance(b, Transportation))\n",
    "print(isinstance(b, Car))\n",
    "print(isinstance(b, type(Car)))\n",
    "\n",
    "print(isinstance(c, Car))\n",
    "print(isinstance(c, Transportation))\n",
    "\n",
    "print(isinstance(f, Ferrari))\n",
    "print(isinstance(f, Car))\n",
    "print(isinstance(f, Transportation))\n",
    "\n",
    "print(issubclass(Bike, Transportation))\n",
    "print(issubclass(Car, Transportation))\n",
    "print(issubclass(Ferrari, Car))\n",
    "print(issubclass(Ferrari, Transportation))\n",
    "print(issubclass(Transportation, Transportation))\n",
    "\n",
    "b.travel(5)\n",
    "print(c.is_auto())\n",
    "print(f.is_auto())\n",
    "print(b.is_auto())\n",
    "# b.make_sound()\n",
    "c.travel(10)\n",
    "f.travel(4)"
   ]
  },
  {
   "cell_type": "markdown",
   "metadata": {},
   "source": [
    "## Métodos Mágicos"
   ]
  },
  {
   "cell_type": "markdown",
   "metadata": {},
   "source": [
    "### Leitura\n",
    "\n",
    "O Python fornece um número enorme de métodos especiais que uma classe pode substituir para interoperar com operações embutidas do Python. Você pode passar por uma [lista visual aproximada](http://diveintopython3.problemsolving.io/special-method-names.html) de Dive into Python3, ou uma [explicação mais detalhada](https://rszalski.github.io/magicmethods/), ou a [documentação completa do Python](https://docs.python.org/3/reference/datamodel.html#specialnames) em métodos especiais. AVISO: Há muitos deles, então é melhor dar uma olhada do que dar um mergulho profundo, a menos que você esteja amando essas coisas."
   ]
  },
  {
   "cell_type": "markdown",
   "metadata": {},
   "source": [
    "### Classe Polinomial\n",
    "\n",
    "Vamos escrever uma classe `Polynomial` que age como um número. Como lembrete, um [polinômio](https://en.wikipedia.org/wiki/Polynomial) é um objeto matemático que se parece com $ 1 + x + x ^ 2 $ ou $ 4 - 10x + x ^ 3 $ ou $ - 4 - 2x ^ {10} $. Um polinômio matemático pode ser avaliado em um determinado valor de $ x $. Por exemplo, se $ f (x) = 1 + x + x ^ 2 $, então $ f (5) = 1 + 5 + 5 ^ 2 = 1 + 5 + 25 = 31 $.\n",
    "\n",
    "Os polinômios também são adicionados: Se $f(x) = 1 + 4x + 4x ^ 3$ e $ g (x) = 2 + 3x ^ 2 + 5x ^ 3 $, então $ (f + g) (x) = (1 + 2) + 4x + 3x ^ 2 + (4 + 5) x ^ 3 = 3 + 4 + 3x ^ 2 + 9x ^ 3 $.\n",
    "\n",
    "Construa um polinômio com uma lista variável de coeficientes: o argumento zero é a coordenada do lugar de $ x ^ 0 $, o primeiro argumento é a coordenada do lugar de $ x ^ 1 $, e assim por diante. Por exemplo, `f = Polynomial(1, 3, 5)` deve construir um `Polynomial` representando $ 1 + 3x + 5x ^ 2 $.\n",
    "\n",
    "Você precisará sobrescrever o método especial de adição (`__add__`) e o método especial que pode ser chamado (` __call__`).\n",
    "\n",
    "Você deve conseguir emular o seguinte código:\n",
    "\n",
    "\n",
    "```Python\n",
    "f = Polynomial(1, 5, 10)\n",
    "g = Polynomial(1, 3, 5)\n",
    "\n",
    "print(f(5))  # => Invokes `f.__call__(5)`\n",
    "print(g(2))  # => Invokes `g.__call__(2)`\n",
    "\n",
    "h = f + g    # => Invokes `f.__add__(g)`\n",
    "print(h(3))  # => Invokes `h.__call__(3)`\n",
    "```\n",
    "\n",
    "Por fim, implemente um método para converter um `Polynomial` em uma representação informal de string. Por exemplo, o polinômio `Polinomial (1, 3, 5)` deve ser representado pela string `\" 1 * x ^ 0 + 3 * x ^ 1 + 5 * x ^ 2 \"`."
   ]
  },
  {
   "cell_type": "code",
   "execution_count": null,
   "metadata": {},
   "outputs": [],
   "source": [
    "class Polynomial:\n",
    "    def __init__(self):\n",
    "        pass\n",
    "    \n",
    "    def __call__(self, x):\n",
    "        \"\"\"Implement `self(x)`.\"\"\"\n",
    "        pass\n",
    "    \n",
    "    def __add__(self, other):\n",
    "        \"\"\"Implement `self + other`.\"\"\"\n",
    "        pass\n",
    "    \n",
    "    def __str__(self):\n",
    "        \"\"\"Implement `str(x)`.\"\"\"\n",
    "        pass"
   ]
  },
  {
   "cell_type": "markdown",
   "metadata": {},
   "source": [
    "## Exceções"
   ]
  },
  {
   "cell_type": "markdown",
   "metadata": {},
   "source": [
    "### Leitura\n",
    "\n",
    "[Python's documentation on built-in exceptions](https://docs.python.org/3.4/library/exceptions.html)."
   ]
  },
  {
   "cell_type": "markdown",
   "metadata": {},
   "source": [
    "### `try`/`except`/`else`/`finally`\n",
    "\n",
    "O Python fornece blocos `try` e` except`, semelhantes aos blocos `try` e `catch` de outras linguagens, para um fluxo de controle de exceções."
   ]
  },
  {
   "cell_type": "markdown",
   "metadata": {},
   "source": [
    "#### `get_age`\n",
    "\n",
    "Escreva uma função `get_age` que pede a idade de um usuário, que deve ser um número inteiro positivo entre 0 e 123, inclusive (a pessoa mais velha registrada, Jeanna Clement, morreu aos 122 anos). Se o usuário inserir algo que não seja um inteiro, você deverá fazer uma nova solicitação. No entanto, se eles inserirem um número inteiro e estiverem fora do intervalo, você deverá gerar uma exceção. Ou seja, você deve continuar a reprocessá-los até que eles digam algo que possa ser convertido em um inteiro e, em seguida, retorne esse número se ele estiver no intervalo e apresente outra exceção. Duas execuções de amostra são mostradas abaixo\n",
    "\n",
    "```\n",
    "# (Call 1)\n",
    "How old are you? ABC\n",
    "Invalid integer input.\n",
    "How old are you? -4.5\n",
    "Invalid integer input.\n",
    "How old are you? 36\n",
    "# returns 36\n",
    "\n",
    "# (Call 2)\n",
    "How old are you? XYZ\n",
    "Invalid integer input.\n",
    "How old are you? 128\n",
    "# raises some exception\n",
    "Traceback (most recent call last):\n",
    "  File \"<stdin>\", line 1, in <module>\n",
    "ValueError: Age 128 out of range\n",
    "```\n"
   ]
  },
  {
   "cell_type": "code",
   "execution_count": null,
   "metadata": {},
   "outputs": [],
   "source": [
    "def get_age(min_age=0, max_age=123):\n",
    "    pass"
   ]
  },
  {
   "cell_type": "markdown",
   "metadata": {},
   "source": [
    "### Exceções Personalizadas\n",
    "\n",
    "Escreva uma classe de exceção personalizada chamada `OutOfRangeError` que herda de `ValueError` que indica que um determinado valor está fora de um intervalo aceitável. Como é essa definição de classe?\n",
    "\n",
    "``` \n",
    "# Implement OutOfRangeError\n",
    "```\n",
    "\n",
    "Reescreva seu código em `get_age` para usar esta exceção personalizada. Você precisa alterar algum outro código?\n"
   ]
  },
  {
   "cell_type": "code",
   "execution_count": null,
   "metadata": {},
   "outputs": [],
   "source": [
    "# Add code here!"
   ]
  },
  {
   "cell_type": "markdown",
   "metadata": {},
   "source": [
    "### Usando `else` e `finally`\n",
    "\n",
    "Reescreva sua função `get_age` para usar o bloco `else` e, opcionalmente, o bloco `finally`. Como é consistente com as diretrizes gerais de estilo, tente manter o bloco `try` tão curto quanto possível, contendo apenas o código que pode levantar a exceção que você está tentando capturar."
   ]
  },
  {
   "cell_type": "markdown",
   "metadata": {},
   "source": [
    "### Reraising\n",
    "\n",
    "Considere o seguinte código:\n",
    "\n",
    "```Python\n",
    "try:\n",
    "    print(\"in try\")\n",
    "    # (A)\n",
    "except Exception as exc:\n",
    "    print(\"in except\")\n",
    "    # (B)\n",
    "else:\n",
    "    print(\"in else\")\n",
    "    # (C)\n",
    "finally:\n",
    "    print(\"in finally\")\n",
    "    # (D)\n",
    "```\n",
    "\n",
    "Vamos adicionar alguns erros a este bloco de código, que atualmente é impresso\n",
    "\n",
    "```\n",
    "in try\n",
    "in else\n",
    "in finally\n",
    "```\n",
    "\n",
    "Para cada um dos locais rotulados `(A), (B), (C), (D)`, quais declarações serão impressas se `raise Exception()` estiver nessa posição? Execute o código para testar suas hipóteses."
   ]
  },
  {
   "cell_type": "code",
   "execution_count": null,
   "metadata": {},
   "outputs": [],
   "source": [
    "# Case (A)\n",
    "try:\n",
    "    print(\"Try\")\n",
    "    raise Exception('An on-purpose exception.')\n",
    "except Exception as exc:\n",
    "    print(\"Except\")\n",
    "else:\n",
    "    print(\"Else\")\n",
    "finally:\n",
    "    print(\"Finally\")"
   ]
  },
  {
   "cell_type": "code",
   "execution_count": null,
   "metadata": {},
   "outputs": [],
   "source": [
    "# Case (B)\n",
    "try:\n",
    "    print(\"Try\")\n",
    "except Exception as exc:\n",
    "    print(\"Except\")\n",
    "    raise Exception('An on-purpose exception.')\n",
    "else:\n",
    "    print(\"Else\")\n",
    "finally:\n",
    "    print(\"Finally\")"
   ]
  },
  {
   "cell_type": "code",
   "execution_count": null,
   "metadata": {},
   "outputs": [],
   "source": [
    "# Case (C)\n",
    "try:\n",
    "    print(\"Try\")\n",
    "except Exception as exc:\n",
    "    print(\"Except\")\n",
    "else:\n",
    "    print(\"Else\")\n",
    "    raise Exception('An on-purpose exception.')\n",
    "finally:\n",
    "    print(\"Finally\")"
   ]
  },
  {
   "cell_type": "code",
   "execution_count": null,
   "metadata": {},
   "outputs": [],
   "source": [
    "# Case (D)\n",
    "try:\n",
    "    print(\"Try\")\n",
    "except Exception as exc:\n",
    "    print(\"Except\")\n",
    "else:\n",
    "    print(\"Else\")\n",
    "finally:\n",
    "    print(\"Finally\")\n",
    "    raise Exception('An on-purpose exception.')"
   ]
  },
  {
   "cell_type": "code",
   "execution_count": null,
   "metadata": {},
   "outputs": [],
   "source": [
    "# Case (AB)\n",
    "try:\n",
    "    print(\"Try\")\n",
    "    raise Exception('An on-purpose exception.')\n",
    "except Exception as exc:\n",
    "    print(\"Except\")\n",
    "    raise Exception('Another on-purpose exception.')\n",
    "else:\n",
    "    print(\"Else\")\n",
    "finally:\n",
    "    print(\"Finally\")"
   ]
  },
  {
   "cell_type": "code",
   "execution_count": null,
   "metadata": {},
   "outputs": [],
   "source": [
    "# Case (AC)\n",
    "try:\n",
    "    print(\"Try\")\n",
    "    raise Exception('An on-purpose exception.')\n",
    "except Exception as exc:\n",
    "    print(\"Except\")\n",
    "else:\n",
    "    print(\"Else\")\n",
    "    raise Exception('Another on-purpose exception.')\n",
    "finally:\n",
    "    print(\"Finally\")"
   ]
  },
  {
   "cell_type": "code",
   "execution_count": null,
   "metadata": {},
   "outputs": [],
   "source": [
    "# Case (AD)\n",
    "try:\n",
    "    print(\"Try\")\n",
    "    raise Exception('An on-purpose exception.')\n",
    "except Exception as exc:\n",
    "    print(\"Except\")\n",
    "else:\n",
    "    print(\"Else\")\n",
    "finally:\n",
    "    print(\"Finally\")\n",
    "    raise Exception('Another on-purpose exception.')"
   ]
  },
  {
   "cell_type": "markdown",
   "metadata": {},
   "source": [
    "## Acabou cedo?\n",
    "\n",
    "Respire fundo. O que quer que você esteja trabalhando, você pode fazer isso!"
   ]
  },
  {
   "cell_type": "markdown",
   "metadata": {},
   "source": [
    "> With <3 by @sredmond"
   ]
  }
 ],
 "metadata": {
  "kernelspec": {
   "display_name": "Python 3",
   "language": "python",
   "name": "python3"
  },
  "language_info": {
   "codemirror_mode": {
    "name": "ipython",
    "version": 3
   },
   "file_extension": ".py",
   "mimetype": "text/x-python",
   "name": "python",
   "nbconvert_exporter": "python",
   "pygments_lexer": "ipython3",
   "version": "3.7.1"
  }
 },
 "nbformat": 4,
 "nbformat_minor": 2
}
